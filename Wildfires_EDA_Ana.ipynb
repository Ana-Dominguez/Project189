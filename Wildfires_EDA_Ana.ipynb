{
 "cells": [
  {
   "cell_type": "code",
   "execution_count": 1,
   "id": "a1db0ccf",
   "metadata": {},
   "outputs": [],
   "source": [
    "import sqlite3\n",
    "import pandas as pd\n",
    "import numpy as np\n",
    "import matplotlib.pyplot as plt\n",
    "import random\n",
    "import statsmodels\n",
    "import statsmodels.api as sm\n",
    "import statsmodels.formula.api as smf\n",
    "import scipy.stats as stats\n",
    "from scipy.stats import percentileofscore"
   ]
  },
  {
   "cell_type": "markdown",
   "id": "ac44b5b6",
   "metadata": {},
   "source": [
    "## Note to TAs:\n",
    "my code should run with no issues. The last cells with /0 errors are not issues since those values are not at >90% significance anyways. The only place I access outside files is in the cell right below where I access the downloaded Kaggle file."
   ]
  },
  {
   "cell_type": "markdown",
   "id": "ab86e233",
   "metadata": {},
   "source": [
    "### Load data from .sqlite file"
   ]
  },
  {
   "cell_type": "code",
   "execution_count": 2,
   "id": "bab919f4",
   "metadata": {},
   "outputs": [],
   "source": [
    "# Connect to the SQLite database\n",
    "conn = sqlite3.connect('wildfires.sqlite')\n",
    "\n",
    "# Create a cursor object\n",
    "cursor = conn.cursor()\n",
    "\n",
    "# Fetch the table names from the database\n",
    "cursor.execute(\"SELECT name FROM sqlite_master WHERE type='table';\")\n",
    "table_names = cursor.fetchall()\n",
    "\n",
    "# Select the first table name\n",
    "table_name = table_names[21][0]  # Assuming there is at least one table in the database"
   ]
  },
  {
   "cell_type": "code",
   "execution_count": 3,
   "id": "51bde12f",
   "metadata": {},
   "outputs": [],
   "source": [
    "# Execute a query to fetch data from the selected table\n",
    "cursor.execute(f\"SELECT * FROM {table_name}\")\n",
    "\n",
    "# Fetch all the results and store them as a list of tuples\n",
    "data = cursor.fetchall()\n",
    "\n",
    "# Get column names from cursor description\n",
    "columns = [col[0] for col in cursor.description]\n",
    "\n",
    "# Close the cursor and the connection\n",
    "cursor.close()\n",
    "conn.close()\n",
    "\n",
    "# Create a DataFrame from the fetched data\n",
    "df_all_cols = pd.DataFrame(data, columns=columns)"
   ]
  },
  {
   "cell_type": "code",
   "execution_count": 4,
   "id": "14eef4f4",
   "metadata": {
    "scrolled": true
   },
   "outputs": [
    {
     "data": {
      "text/html": [
       "<div>\n",
       "<style scoped>\n",
       "    .dataframe tbody tr th:only-of-type {\n",
       "        vertical-align: middle;\n",
       "    }\n",
       "\n",
       "    .dataframe tbody tr th {\n",
       "        vertical-align: top;\n",
       "    }\n",
       "\n",
       "    .dataframe thead th {\n",
       "        text-align: right;\n",
       "    }\n",
       "</style>\n",
       "<table border=\"1\" class=\"dataframe\">\n",
       "  <thead>\n",
       "    <tr style=\"text-align: right;\">\n",
       "      <th></th>\n",
       "      <th>FOD_ID</th>\n",
       "      <th>FIRE_SIZE_CLASS</th>\n",
       "      <th>LATITUDE</th>\n",
       "      <th>LONGITUDE</th>\n",
       "      <th>STATE</th>\n",
       "      <th>FIRE_NAME</th>\n",
       "      <th>DISCOVERY_DATE</th>\n",
       "      <th>DISCOVERY_DOY</th>\n",
       "      <th>FIRE_YEAR</th>\n",
       "      <th>STAT_CAUSE_CODE</th>\n",
       "      <th>STAT_CAUSE_DESCR</th>\n",
       "      <th>CONT_DATE</th>\n",
       "      <th>FIRE_SIZE</th>\n",
       "    </tr>\n",
       "  </thead>\n",
       "  <tbody>\n",
       "    <tr>\n",
       "      <th>0</th>\n",
       "      <td>17</td>\n",
       "      <td>G</td>\n",
       "      <td>38.523333</td>\n",
       "      <td>-120.211667</td>\n",
       "      <td>CA</td>\n",
       "      <td>POWER</td>\n",
       "      <td>2453284.5</td>\n",
       "      <td>280</td>\n",
       "      <td>2004</td>\n",
       "      <td>2.0</td>\n",
       "      <td>Equipment Use</td>\n",
       "      <td>2453299.5</td>\n",
       "      <td>16823.0</td>\n",
       "    </tr>\n",
       "    <tr>\n",
       "      <th>1</th>\n",
       "      <td>18</td>\n",
       "      <td>G</td>\n",
       "      <td>38.780000</td>\n",
       "      <td>-120.260000</td>\n",
       "      <td>CA</td>\n",
       "      <td>FREDS</td>\n",
       "      <td>2453291.5</td>\n",
       "      <td>287</td>\n",
       "      <td>2004</td>\n",
       "      <td>2.0</td>\n",
       "      <td>Equipment Use</td>\n",
       "      <td>2453295.5</td>\n",
       "      <td>7700.0</td>\n",
       "    </tr>\n",
       "    <tr>\n",
       "      <th>2</th>\n",
       "      <td>192</td>\n",
       "      <td>G</td>\n",
       "      <td>33.723333</td>\n",
       "      <td>-111.275000</td>\n",
       "      <td>AZ</td>\n",
       "      <td>THREE</td>\n",
       "      <td>2453542.5</td>\n",
       "      <td>172</td>\n",
       "      <td>2005</td>\n",
       "      <td>1.0</td>\n",
       "      <td>Lightning</td>\n",
       "      <td>2453550.5</td>\n",
       "      <td>16100.0</td>\n",
       "    </tr>\n",
       "    <tr>\n",
       "      <th>3</th>\n",
       "      <td>556</td>\n",
       "      <td>F</td>\n",
       "      <td>35.688056</td>\n",
       "      <td>-118.438333</td>\n",
       "      <td>CA</td>\n",
       "      <td>NINE</td>\n",
       "      <td>2453560.5</td>\n",
       "      <td>190</td>\n",
       "      <td>2005</td>\n",
       "      <td>9.0</td>\n",
       "      <td>Miscellaneous</td>\n",
       "      <td>2453561.5</td>\n",
       "      <td>1149.0</td>\n",
       "    </tr>\n",
       "    <tr>\n",
       "      <th>4</th>\n",
       "      <td>590</td>\n",
       "      <td>F</td>\n",
       "      <td>33.933611</td>\n",
       "      <td>-111.379722</td>\n",
       "      <td>AZ</td>\n",
       "      <td>OAK</td>\n",
       "      <td>2453567.5</td>\n",
       "      <td>197</td>\n",
       "      <td>2005</td>\n",
       "      <td>1.0</td>\n",
       "      <td>Lightning</td>\n",
       "      <td>2453571.5</td>\n",
       "      <td>1300.0</td>\n",
       "    </tr>\n",
       "  </tbody>\n",
       "</table>\n",
       "</div>"
      ],
      "text/plain": [
       "   FOD_ID FIRE_SIZE_CLASS   LATITUDE   LONGITUDE STATE FIRE_NAME  \\\n",
       "0      17               G  38.523333 -120.211667    CA     POWER   \n",
       "1      18               G  38.780000 -120.260000    CA     FREDS   \n",
       "2     192               G  33.723333 -111.275000    AZ     THREE   \n",
       "3     556               F  35.688056 -118.438333    CA      NINE   \n",
       "4     590               F  33.933611 -111.379722    AZ       OAK   \n",
       "\n",
       "   DISCOVERY_DATE  DISCOVERY_DOY  FIRE_YEAR  STAT_CAUSE_CODE STAT_CAUSE_DESCR  \\\n",
       "0       2453284.5            280       2004              2.0    Equipment Use   \n",
       "1       2453291.5            287       2004              2.0    Equipment Use   \n",
       "2       2453542.5            172       2005              1.0        Lightning   \n",
       "3       2453560.5            190       2005              9.0    Miscellaneous   \n",
       "4       2453567.5            197       2005              1.0        Lightning   \n",
       "\n",
       "   CONT_DATE  FIRE_SIZE  \n",
       "0  2453299.5    16823.0  \n",
       "1  2453295.5     7700.0  \n",
       "2  2453550.5    16100.0  \n",
       "3  2453561.5     1149.0  \n",
       "4  2453571.5     1300.0  "
      ]
     },
     "execution_count": 4,
     "metadata": {},
     "output_type": "execute_result"
    }
   ],
   "source": [
    "df = df_all_cols[['FOD_ID','FIRE_SIZE_CLASS', 'LATITUDE', 'LONGITUDE', 'STATE', 'FIRE_NAME', 'DISCOVERY_DATE', 'DISCOVERY_DOY', 'FIRE_YEAR', 'STAT_CAUSE_CODE', 'STAT_CAUSE_DESCR', 'CONT_DATE', 'FIRE_SIZE']]\n",
    "df = df[(df.get('FIRE_SIZE_CLASS') == 'F') | (df.get('FIRE_SIZE_CLASS') == 'G')].reset_index().drop(columns = 'index')\n",
    "df.head()"
   ]
  },
  {
   "cell_type": "code",
   "execution_count": null,
   "id": "3f72317d",
   "metadata": {},
   "outputs": [],
   "source": []
  },
  {
   "cell_type": "markdown",
   "id": "bfbceada",
   "metadata": {},
   "source": [
    "#### Outline of what the code below achieves\n",
    "\n",
    "* Plotting change in frequency of wildfires over time\n",
    "    - Compare this within different regions/seasons\n",
    "    - Perform a hypothesis test to determine if some regions have different peak times and different frequencies, also to determine maximum confidence by which we can say that wildfires have increased in frequency"
   ]
  },
  {
   "cell_type": "markdown",
   "id": "9192dac0",
   "metadata": {},
   "source": [
    "### Filter fires by region, season, and region+season"
   ]
  },
  {
   "cell_type": "code",
   "execution_count": 5,
   "id": "66d49334",
   "metadata": {},
   "outputs": [],
   "source": [
    "northeast = ['ME', 'NH', 'VT', 'MA', 'RI', 'CT', 'NY', 'NJ', 'PA']\n",
    "midwest = ['OH', 'MI', 'IN', 'WI', 'IL', 'MN', 'IO', 'MO', 'ND', 'SD', 'NE', 'KS']\n",
    "south = ['DE', 'MD', 'VI', 'WV', 'KY', 'NC', 'SC', 'TN', 'GA', 'FL', 'AL', 'MS', 'AR', 'LA', 'TX', 'OK']\n",
    "west = ['MT', 'ID', 'WY', 'CO', 'NM', 'AZ', 'UT', 'NV', 'CA', 'OR', 'WA']\n",
    "#from US Census Bureau: https://www2.census.gov/geo/pdfs/maps-data/maps/reference/us_regdiv.pdf\n",
    "#exclues AK + HI for simiplicity\n",
    "\n",
    "#winter = days 354-365 + 0-78\n",
    "#spring = days 79-170\n",
    "#summer = days 171-262\n",
    "#fall = days 263-353"
   ]
  },
  {
   "cell_type": "code",
   "execution_count": 6,
   "id": "2164ca92",
   "metadata": {},
   "outputs": [],
   "source": [
    "northeast_df = df[df['STATE'].isin(northeast)]\n",
    "midwest_df = df[df['STATE'].isin(midwest)]\n",
    "south_df = df[df['STATE'].isin(south)]\n",
    "west_df = df[df['STATE'].isin(west)]"
   ]
  },
  {
   "cell_type": "code",
   "execution_count": 7,
   "id": "148ff8ba",
   "metadata": {},
   "outputs": [],
   "source": [
    "winter = df[(df.get('DISCOVERY_DOY') >= 354) | (df.get('DISCOVERY_DOY') <= 78)]\n",
    "spring = df[(df.get('DISCOVERY_DOY') >= 79) & (df.get('DISCOVERY_DOY') <= 170)]\n",
    "summer = df[(df.get('DISCOVERY_DOY') >= 171) & (df.get('DISCOVERY_DOY') <= 262)]\n",
    "fall = df[(df.get('DISCOVERY_DOY') >= 263) & (df.get('DISCOVERY_DOY') <= 353)]"
   ]
  },
  {
   "cell_type": "code",
   "execution_count": 8,
   "id": "20360a02",
   "metadata": {},
   "outputs": [],
   "source": [
    "winter_ne = northeast_df[(northeast_df.get('DISCOVERY_DOY') >= 354) | (northeast_df.get('DISCOVERY_DOY') <= 78)]\n",
    "spring_ne = northeast_df[(northeast_df.get('DISCOVERY_DOY') >= 79) & (northeast_df.get('DISCOVERY_DOY') <= 170)]\n",
    "summer_ne = northeast_df[(northeast_df.get('DISCOVERY_DOY') >= 171) & (northeast_df.get('DISCOVERY_DOY') <= 262)]\n",
    "fall_ne = northeast_df[(northeast_df.get('DISCOVERY_DOY') >= 263) & (northeast_df.get('DISCOVERY_DOY') <= 353)]"
   ]
  },
  {
   "cell_type": "code",
   "execution_count": 9,
   "id": "8cf2485d",
   "metadata": {},
   "outputs": [],
   "source": [
    "winter_mw = midwest_df[(midwest_df.get('DISCOVERY_DOY') >= 354) | (midwest_df.get('DISCOVERY_DOY') <= 78)]\n",
    "spring_mw = midwest_df[(midwest_df.get('DISCOVERY_DOY') >= 79) & (midwest_df.get('DISCOVERY_DOY') <= 170)]\n",
    "summer_mw = midwest_df[(midwest_df.get('DISCOVERY_DOY') >= 171) & (midwest_df.get('DISCOVERY_DOY') <= 262)]\n",
    "fall_mw = midwest_df[(midwest_df.get('DISCOVERY_DOY') >= 263) & (midwest_df.get('DISCOVERY_DOY') <= 353)]"
   ]
  },
  {
   "cell_type": "code",
   "execution_count": 10,
   "id": "db41f6f3",
   "metadata": {},
   "outputs": [],
   "source": [
    "winter_s = south_df[(south_df.get('DISCOVERY_DOY') >= 354) | (south_df.get('DISCOVERY_DOY') <= 78)]\n",
    "spring_s = south_df[(south_df.get('DISCOVERY_DOY') >= 79) & (south_df.get('DISCOVERY_DOY') <= 170)]\n",
    "summer_s = south_df[(south_df.get('DISCOVERY_DOY') >= 171) & (south_df.get('DISCOVERY_DOY') <= 262)]\n",
    "fall_s = south_df[(south_df.get('DISCOVERY_DOY') >= 263) & (south_df.get('DISCOVERY_DOY') <= 353)]"
   ]
  },
  {
   "cell_type": "code",
   "execution_count": 11,
   "id": "855d01dd",
   "metadata": {},
   "outputs": [],
   "source": [
    "winter_w = west_df[(west_df.get('DISCOVERY_DOY') >= 354) | (west_df.get('DISCOVERY_DOY') <= 78)]\n",
    "spring_w = west_df[(west_df.get('DISCOVERY_DOY') >= 79) & (west_df.get('DISCOVERY_DOY') <= 170)]\n",
    "summer_w = west_df[(west_df.get('DISCOVERY_DOY') >= 171) & (west_df.get('DISCOVERY_DOY') <= 262)]\n",
    "fall_w = west_df[(west_df.get('DISCOVERY_DOY') >= 263) & (west_df.get('DISCOVERY_DOY') <= 353)]"
   ]
  },
  {
   "cell_type": "markdown",
   "id": "03e292c0",
   "metadata": {},
   "source": [
    "### Compare seaonality and regionality of fires"
   ]
  },
  {
   "cell_type": "code",
   "execution_count": 12,
   "id": "d450d2b7",
   "metadata": {
    "scrolled": true
   },
   "outputs": [
    {
     "data": {
      "image/png": "[encoded data removed]",
      "text/plain": [
       "<Figure size 432x288 with 1 Axes>"
      ]
     },
     "metadata": {
      "needs_background": "light"
     },
     "output_type": "display_data"
    }
   ],
   "source": [
    "#Percent of fires per season\n",
    "winter_fires = round(100*winter.shape[0]/df.shape[0],1)\n",
    "spring_fires = round(100*spring.shape[0]/df.shape[0],1)\n",
    "summer_fires = round(100*summer.shape[0]/df.shape[0],1)\n",
    "fall_fires = round(100*fall.shape[0]/df.shape[0],1)\n",
    "\n",
    "#plot fires / season\n",
    "fig, ax = plt.subplots()\n",
    "ax.bar(['Winter','Spring','Summer','Fall'], [winter_fires, spring_fires, summer_fires, fall_fires], \n",
    "       color = ['lightsteelblue','limegreen','gold','darkorange'])\n",
    "ax.set_xlabel('Seasons')\n",
    "ax.set_ylabel('Percent of Fires')\n",
    "ax.set_ylim(0, 100)\n",
    "ax.set_title('Percent of Fires per Season')\n",
    "plt.show()"
   ]
  },
  {
   "cell_type": "code",
   "execution_count": 13,
   "id": "aadf156d",
   "metadata": {},
   "outputs": [
    {
     "data": {
      "image/png": "[encoded data removed]",
      "text/plain": [
       "<Figure size 432x288 with 1 Axes>"
      ]
     },
     "metadata": {
      "needs_background": "light"
     },
     "output_type": "display_data"
    }
   ],
   "source": [
    "#Percent of fires per region\n",
    "ne_fires = round(100*northeast_df.shape[0]/df.shape[0],1)\n",
    "mw_fires = round(100*midwest_df.shape[0]/df.shape[0],1)\n",
    "s_fires = round(100*south_df.shape[0]/df.shape[0],1)\n",
    "w_fires = round(100*west_df.shape[0]/df.shape[0],1)\n",
    "\n",
    "#plot fires / region\n",
    "fig, ax = plt.subplots()\n",
    "ax.bar(['West','South','Midwest','Northeast'], [w_fires, s_fires, mw_fires, ne_fires], \n",
    "       color = ['darkgreen','red','darkorchid','mediumturquoise'])\n",
    "ax.set_xlabel('Regions')\n",
    "ax.set_ylabel('Percent of Fires')\n",
    "ax.set_ylim(0, 100)\n",
    "ax.set_title('Percent of Fires per Region')\n",
    "plt.show()"
   ]
  },
  {
   "cell_type": "code",
   "execution_count": 14,
   "id": "62d31a4d",
   "metadata": {},
   "outputs": [],
   "source": [
    "#Percent of fires in NE per season\n",
    "winter_in_ne = round(100*winter_ne.shape[0]/northeast_df.shape[0],1)\n",
    "spring_in_ne = round(100*spring_ne.shape[0]/northeast_df.shape[0],1)\n",
    "summer_in_ne = round(100*summer_ne.shape[0]/northeast_df.shape[0],1)\n",
    "fall_in_ne = round(100*fall_ne.shape[0]/northeast_df.shape[0],1)\n",
    "ne_season_fires = [winter_in_ne,spring_in_ne,summer_in_ne,fall_in_ne]\n",
    "\n",
    "#Percent of fires in MW per season\n",
    "winter_in_mw = round(100*winter_mw.shape[0]/midwest_df.shape[0],1)\n",
    "spring_in_mw = round(100*spring_mw.shape[0]/midwest_df.shape[0],1)\n",
    "summer_in_mw = round(100*summer_mw.shape[0]/midwest_df.shape[0],1)\n",
    "fall_in_mw = round(100*fall_mw.shape[0]/midwest_df.shape[0],1)\n",
    "mw_season_fires = [winter_in_mw,spring_in_mw,summer_in_mw,fall_in_mw]\n",
    "\n",
    "#Percent of fires in S per season\n",
    "winter_in_s = round(100*winter_s.shape[0]/south_df.shape[0],1)\n",
    "spring_in_s = round(100*spring_s.shape[0]/south_df.shape[0],1)\n",
    "summer_in_s = round(100*summer_s.shape[0]/south_df.shape[0],1)\n",
    "fall_in_s = round(100*fall_s.shape[0]/south_df.shape[0],1)\n",
    "s_season_fires = [winter_in_s,spring_in_s,summer_in_s,fall_in_s]\n",
    "\n",
    "#Percent of fires in W per season\n",
    "winter_in_w = round(100*winter_w.shape[0]/west_df.shape[0],1)\n",
    "spring_in_w = round(100*spring_w.shape[0]/west_df.shape[0],1)\n",
    "summer_in_w = round(100*summer_w.shape[0]/west_df.shape[0],1)\n",
    "fall_in_w = round(100*fall_w.shape[0]/west_df.shape[0],1)\n",
    "w_season_fires = [winter_in_w,spring_in_w,summer_in_w,fall_in_w]"
   ]
  },
  {
   "cell_type": "code",
   "execution_count": 15,
   "id": "adbfdfe6",
   "metadata": {},
   "outputs": [
    {
     "data": {
      "image/png": "[encoded data removed]",
      "text/plain": [
       "<Figure size 720x576 with 4 Axes>"
      ]
     },
     "metadata": {
      "needs_background": "light"
     },
     "output_type": "display_data"
    }
   ],
   "source": [
    "#plot all regions' seasonal frequencies onto same plot\n",
    "seasons = ['Winter', 'Spring', 'Summer', 'Fall']\n",
    "all_season_regions = [mw_season_fires,ne_season_fires,w_season_fires,s_season_fires]\n",
    "fig, axs = plt.subplots(2, 2, figsize=(10, 8), sharey=True)\n",
    "sub_titles = ['Midwest','Northeast','West','South']\n",
    "for ax, sub_title, region in zip(axs.flat, sub_titles, all_season_regions):\n",
    "    ax.bar(['Winter', 'Spring', 'Summer', 'Fall'], region, color=['lightsteelblue','limegreen','gold','darkorange'])\n",
    "    ax.set_title(sub_title)\n",
    "    ax.set_ylim(0, 100)\n",
    "    ax.set_xlabel('Season')\n",
    "fig.text(0.04, 0.5, 'Percent of Fires', va='center', rotation='vertical')\n",
    "fig.suptitle('Percent of Fires in Each Region by Season',size=15.0)\n",
    "fig.tight_layout(rect=[0.05, 0.05, 1, 0.95])\n",
    "plt.show()"
   ]
  },
  {
   "cell_type": "markdown",
   "id": "f1e419d5",
   "metadata": {},
   "source": [
    "### Examine change in frequency over time / region, season, region+season"
   ]
  },
  {
   "cell_type": "code",
   "execution_count": 18,
   "id": "a5040c05",
   "metadata": {},
   "outputs": [
    {
     "data": {
      "image/png": "[encoded data removed]",
      "text/plain": [
       "<Figure size 432x288 with 1 Axes>"
      ]
     },
     "metadata": {
      "needs_background": "light"
     },
     "output_type": "display_data"
    }
   ],
   "source": [
    "df_years = df.groupby('FIRE_YEAR').count()\n",
    "plt.plot(df_years.reset_index().get('FIRE_YEAR').to_numpy(), df_years.get('FOD_ID').to_numpy())\n",
    "plt.title('Number of Fires/Year over Time')\n",
    "plt.xlabel('Year')\n",
    "plt.ylabel('Number of Fires')\n",
    "\n",
    "#calculate change over time\n",
    "bootstrap_df = df_years.reset_index().rename(columns={'index':'FIRE_YEAR'})\n",
    "actual_df = smf.ols('FOD_ID ~ FIRE_YEAR', bootstrap_df).fit()\n",
    "change_df = round(actual_df.params[1]*24,2)\n",
    "change_df = round(100*change_df / bootstrap_df.get('FOD_ID').to_numpy()[0],2)\n",
    "plt.title('Number of Fires/Year over Time\\nPercent Change: ' + str(change_df) + '%',size=13.0);"
   ]
  },
  {
   "cell_type": "code",
   "execution_count": 19,
   "id": "f562586a",
   "metadata": {},
   "outputs": [
    {
     "data": {
      "text/html": [
       "<div>\n",
       "<style scoped>\n",
       "    .dataframe tbody tr th:only-of-type {\n",
       "        vertical-align: middle;\n",
       "    }\n",
       "\n",
       "    .dataframe tbody tr th {\n",
       "        vertical-align: top;\n",
       "    }\n",
       "\n",
       "    .dataframe thead th {\n",
       "        text-align: right;\n",
       "    }\n",
       "</style>\n",
       "<table border=\"1\" class=\"dataframe\">\n",
       "  <thead>\n",
       "    <tr style=\"text-align: right;\">\n",
       "      <th></th>\n",
       "      <th>West</th>\n",
       "      <th>South</th>\n",
       "      <th>Midwest</th>\n",
       "      <th>Northeast</th>\n",
       "    </tr>\n",
       "  </thead>\n",
       "  <tbody>\n",
       "    <tr>\n",
       "      <th>1992</th>\n",
       "      <td>0.791667</td>\n",
       "      <td>0.133333</td>\n",
       "      <td>0.054167</td>\n",
       "      <td>0.020833</td>\n",
       "    </tr>\n",
       "  </tbody>\n",
       "</table>\n",
       "</div>"
      ],
      "text/plain": [
       "          West     South   Midwest  Northeast\n",
       "1992  0.791667  0.133333  0.054167   0.020833"
      ]
     },
     "execution_count": 19,
     "metadata": {},
     "output_type": "execute_result"
    }
   ],
   "source": [
    "#fires/region over time\n",
    "west_all_years = west_df.groupby('FIRE_YEAR').count()\n",
    "years = west_all_years.reset_index().get('FIRE_YEAR').to_numpy()\n",
    "west_years = west_all_years.get('FOD_ID').to_numpy()\n",
    "south_years = south_df.groupby('FIRE_YEAR').count().get('FOD_ID').to_numpy()\n",
    "midwest_years = midwest_df.groupby('FIRE_YEAR').count().get('FOD_ID').to_numpy()\n",
    "#fill in values of 0 for northeast (not all years in the northeast have large fires)\n",
    "northeast_years = northeast_df.groupby('FIRE_YEAR').count()\n",
    "northeast_years = [5,0,0,3,0,1,0,1,0,1,2,0,1,0,1,2,4,1,1,0,1,0,3,2]\n",
    "\n",
    "#each region gets a proportion of fires/year\n",
    "all_regions = {'West': west_years,'South': south_years,\n",
    "               'Midwest': midwest_years,'Northeast': northeast_years}\n",
    "all_regions_df = pd.DataFrame(all_regions, index=years)\n",
    "region_rows = all_regions_df.sum(axis=1)\n",
    "all_regions_props = all_regions_df.div(region_rows, axis=0)\n",
    "all_regions_props.head(1)"
   ]
  },
  {
   "cell_type": "code",
   "execution_count": 20,
   "id": "8a89b80d",
   "metadata": {
    "scrolled": true
   },
   "outputs": [
    {
     "data": {
      "text/plain": [
       "Text(0, 0.5, 'Number of Fires')"
      ]
     },
     "execution_count": 20,
     "metadata": {},
     "output_type": "execute_result"
    },
    {
     "data": {
      "image/png": "[encoded data removed]",
      "text/plain": [
       "<Figure size 432x288 with 1 Axes>"
      ]
     },
     "metadata": {
      "needs_background": "light"
     },
     "output_type": "display_data"
    }
   ],
   "source": [
    "#plot all regions' change in frequency over time\n",
    "plt.plot(years, all_regions_props.get('West').to_numpy(),color='darkgreen')\n",
    "plt.plot(years, all_regions_props.get('South').to_numpy(),color='red')\n",
    "plt.plot(years, all_regions_props.get('Midwest').to_numpy(),color='darkorchid')\n",
    "plt.plot(years, all_regions_props.get('Northeast').to_numpy(),color='mediumturquoise')\n",
    "plt.title('Proportion of Fires/Year over Time by Region',size=14.0)\n",
    "plt.xlabel('Year\\nRed=South, Green=West\\nPurple=Midwest, Blue=Northeast',size=11.0)\n",
    "plt.ylabel('Number of Fires',size=12.0)"
   ]
  },
  {
   "cell_type": "code",
   "execution_count": 21,
   "id": "80fcfe87",
   "metadata": {
    "scrolled": true
   },
   "outputs": [
    {
     "data": {
      "text/html": [
       "<div>\n",
       "<style scoped>\n",
       "    .dataframe tbody tr th:only-of-type {\n",
       "        vertical-align: middle;\n",
       "    }\n",
       "\n",
       "    .dataframe tbody tr th {\n",
       "        vertical-align: top;\n",
       "    }\n",
       "\n",
       "    .dataframe thead th {\n",
       "        text-align: right;\n",
       "    }\n",
       "</style>\n",
       "<table border=\"1\" class=\"dataframe\">\n",
       "  <thead>\n",
       "    <tr style=\"text-align: right;\">\n",
       "      <th></th>\n",
       "      <th>Winter</th>\n",
       "      <th>Spring</th>\n",
       "      <th>Summer</th>\n",
       "      <th>Fall</th>\n",
       "    </tr>\n",
       "  </thead>\n",
       "  <tbody>\n",
       "    <tr>\n",
       "      <th>1992</th>\n",
       "      <td>0.054902</td>\n",
       "      <td>0.219608</td>\n",
       "      <td>0.580392</td>\n",
       "      <td>0.145098</td>\n",
       "    </tr>\n",
       "  </tbody>\n",
       "</table>\n",
       "</div>"
      ],
      "text/plain": [
       "        Winter    Spring    Summer      Fall\n",
       "1992  0.054902  0.219608  0.580392  0.145098"
      ]
     },
     "execution_count": 21,
     "metadata": {},
     "output_type": "execute_result"
    }
   ],
   "source": [
    "#fires/season over time\n",
    "winter_years = winter.groupby('FIRE_YEAR').count().get('FOD_ID').to_numpy()\n",
    "spring_years = spring.groupby('FIRE_YEAR').count().get('FOD_ID').to_numpy()\n",
    "summer_years = summer.groupby('FIRE_YEAR').count().get('FOD_ID').to_numpy()\n",
    "fall_years = fall.groupby('FIRE_YEAR').count().get('FOD_ID').to_numpy()\n",
    "\n",
    "#each season gets a proportion of fires/year\n",
    "all_seasons = {'Winter': winter_years,'Spring': spring_years,\n",
    "               'Summer': summer_years,'Fall': fall_years}\n",
    "all_seasons_df = pd.DataFrame(all_seasons, index=years)\n",
    "season_rows = all_seasons_df.sum(axis=1)\n",
    "all_seasons_props = all_seasons_df.div(season_rows, axis=0)\n",
    "all_seasons_props.head(1)"
   ]
  },
  {
   "cell_type": "code",
   "execution_count": 22,
   "id": "5e444607",
   "metadata": {},
   "outputs": [
    {
     "data": {
      "text/plain": [
       "Text(0, 0.5, 'Number of Fires')"
      ]
     },
     "execution_count": 22,
     "metadata": {},
     "output_type": "execute_result"
    },
    {
     "data": {
      "image/png": "[encoded data removed]",
      "text/plain": [
       "<Figure size 432x288 with 1 Axes>"
      ]
     },
     "metadata": {
      "needs_background": "light"
     },
     "output_type": "display_data"
    }
   ],
   "source": [
    "plt.plot(years, all_seasons_props.get('Winter').to_numpy(),color='lightsteelblue')\n",
    "plt.plot(years, all_seasons_props.get('Spring').to_numpy(),color='limegreen')\n",
    "plt.plot(years, all_seasons_props.get('Summer').to_numpy(),color='gold')\n",
    "plt.plot(years, all_seasons_props.get('Fall').to_numpy(),color='darkorange')\n",
    "plt.title('Proportion of Fires/Year over Time by Season',size=14.0)\n",
    "plt.xlabel('Year\\nBlue=Winter, Green=Spring, Yellow=Summer, Orange=Fall',size=11.0)\n",
    "plt.ylabel('Number of Fires',size=12.0)"
   ]
  },
  {
   "cell_type": "markdown",
   "id": "b765fc17",
   "metadata": {},
   "source": [
    "### Hypothesis Test"
   ]
  },
  {
   "cell_type": "code",
   "execution_count": 24,
   "id": "78434590",
   "metadata": {},
   "outputs": [],
   "source": [
    "#bootstrap frequency of fires/time\n",
    "#/season\n",
    "def bootstrap_values(arr):\n",
    "    random_slopes = np.zeros(5000)\n",
    "    for i in np.arange(5000):\n",
    "        chosen24 = random.sample(arr, 24)\n",
    "        chosen24_df =  pd.DataFrame(chosen24, columns = ['samples'], index=years).reset_index().rename(columns={'index': 'year'})\n",
    "        model = smf.ols('samples ~ year', chosen24_df).fit()\n",
    "        random_slopes[i] = model.params[1]\n",
    "    return random_slopes\n",
    "def check100(perc):\n",
    "    if perc<50:\n",
    "        return 100-perc\n",
    "    else:\n",
    "        return perc"
   ]
  },
  {
   "cell_type": "code",
   "execution_count": 25,
   "id": "7dc89894",
   "metadata": {},
   "outputs": [
    {
     "name": "stdout",
     "output_type": "stream",
     "text": [
      "Winter: percent change over time period: 109.29%\n",
      "boostrap significance 92.18\n",
      "Spring: percent change over time period: 18.21%\n",
      "boostrap significance 77.6\n",
      "Summer: percent change over time period: -1.72%\n",
      "boostrap significance 55.82\n",
      "Fall: percent change over time period: -62.03%\n",
      "boostrap significance 98.2\n"
     ]
    }
   ],
   "source": [
    "seasons_bootstrap = all_seasons_props.reset_index().rename(columns={'index':'year'})\n",
    "#winter\n",
    "actual_winter = smf.ols('Winter ~ year', seasons_bootstrap).fit()\n",
    "change_winter = round(actual_winter.params[1]*24,2)\n",
    "bootstrap_winter = bootstrap_values(list(all_seasons_props['Winter']))\n",
    "percentile_winter = percentileofscore(bootstrap_winter, actual_winter.params[1])\n",
    "percentile_winter = check100(percentile_winter)\n",
    "change_winter = round(100*change_winter / seasons_bootstrap.get('Winter').to_numpy()[0],2)\n",
    "print('Winter: percent change over time period: ' + str(change_winter)+'%')\n",
    "print('boostrap significance', round(percentile_winter,2))\n",
    "#spring\n",
    "actual_spring = smf.ols('Spring ~ year', seasons_bootstrap).fit()\n",
    "change_spring = round(actual_spring.params[1]*24,2)\n",
    "bootstrap_spring = bootstrap_values(list(all_seasons_props['Spring']))\n",
    "percentile_spring = percentileofscore(bootstrap_spring, actual_spring.params[1])\n",
    "percentile_spring = check100(percentile_spring)\n",
    "change_spring = round(100*change_spring / seasons_bootstrap.get('Spring').to_numpy()[0],2)\n",
    "print('Spring: percent change over time period: ' + str(change_spring)+'%')\n",
    "print('boostrap significance', round(percentile_spring,2))\n",
    "#summer\n",
    "actual_summer = smf.ols('Summer ~ year', seasons_bootstrap).fit()\n",
    "change_summer = round(actual_summer.params[1]*24,2)\n",
    "bootstrap_summer = bootstrap_values(list(all_seasons_props['Summer']))\n",
    "percentile_summer = percentileofscore(bootstrap_summer, actual_summer.params[1])\n",
    "percentile_summer = check100(percentile_summer)\n",
    "change_summer = round(100*change_summer / seasons_bootstrap.get('Summer').to_numpy()[0],2)\n",
    "print('Summer: percent change over time period: ' + str(change_summer)+'%')\n",
    "print('boostrap significance', round(percentile_summer,2))\n",
    "#fall\n",
    "actual_fall = smf.ols('Fall ~ year', seasons_bootstrap).fit()\n",
    "change_fall = round(actual_fall.params[1]*24,2)\n",
    "bootstrap_fall = bootstrap_values(list(all_seasons_props['Fall']))\n",
    "percentile_fall = percentileofscore(bootstrap_fall, actual_fall.params[1])\n",
    "percentile_fall = check100(percentile_fall)\n",
    "change_fall = round(100*change_fall / seasons_bootstrap.get('Fall').to_numpy()[0],2)\n",
    "print('Fall: percent change over time period: ' + str(change_fall)+'%')\n",
    "print('boostrap significance', round(percentile_fall,2))"
   ]
  },
  {
   "cell_type": "code",
   "execution_count": 26,
   "id": "ee489b52",
   "metadata": {},
   "outputs": [
    {
     "name": "stdout",
     "output_type": "stream",
     "text": [
      "West: percent change over time period: -22.74%\n",
      "boostrap significance 99.18\n",
      "South: percent change over time period: 120.0%\n",
      "boostrap significance 96.82\n",
      "Midwest: percent change over time period: 55.38%\n",
      "boostrap significance 92.9\n",
      "Northeast: percent change over time period: -0.0%\n",
      "boostrap significance 80.44\n"
     ]
    }
   ],
   "source": [
    "regions_bootstrap = all_regions_props.reset_index().rename(columns={'index':'year'})\n",
    "#west\n",
    "actual_west = smf.ols('West ~ year', regions_bootstrap).fit()\n",
    "change_west = round(actual_west.params[1]*24,2)\n",
    "bootstrap_west = bootstrap_values(list(all_regions_props['West']))\n",
    "percentile_west = percentileofscore(bootstrap_west, actual_west.params[1])\n",
    "percentile_west = check100(percentile_west)\n",
    "change_west = round(100*change_west / regions_bootstrap.get('West').to_numpy()[0],2)\n",
    "print('West: percent change over time period: ' + str(change_west)+'%')\n",
    "print('boostrap significance', round(percentile_west,2))\n",
    "#south\n",
    "actual_south = smf.ols('South ~ year', regions_bootstrap).fit()\n",
    "change_south = round(actual_south.params[1]*24,2)\n",
    "bootstrap_south = bootstrap_values(list(all_regions_props['South']))\n",
    "percentile_south = percentileofscore(bootstrap_south, actual_south.params[1])\n",
    "percentile_south = check100(percentile_south)\n",
    "change_south = round(100*change_south / regions_bootstrap.get('South').to_numpy()[0],2)\n",
    "print('South: percent change over time period: ' + str(change_south)+'%')\n",
    "print('boostrap significance', round(percentile_south,2))\n",
    "#midwest\n",
    "actual_midwest = smf.ols('Midwest ~ year', regions_bootstrap).fit()\n",
    "change_midwest = round(actual_midwest.params[1]*24,2)\n",
    "bootstrap_midwest = bootstrap_values(list(all_regions_props['Midwest']))\n",
    "percentile_midwest = percentileofscore(bootstrap_midwest, actual_midwest.params[1])\n",
    "percentile_midwest = check100(percentile_midwest)\n",
    "change_midwest = round(100*change_midwest / regions_bootstrap.get('Midwest').to_numpy()[0],2)\n",
    "print('Midwest: percent change over time period: ' + str(change_midwest)+'%')\n",
    "print('boostrap significance', round(percentile_midwest,2))\n",
    "#northeast\n",
    "actual_northeast = smf.ols('Northeast ~ year', regions_bootstrap).fit()\n",
    "change_northeast = round(actual_northeast.params[1]*24,2)\n",
    "bootstrap_northeast = bootstrap_values(list(all_regions_props['Northeast']))\n",
    "percentile_northeast = percentileofscore(bootstrap_northeast, actual_northeast.params[1])\n",
    "percentile_northeast = check100(percentile_northeast)\n",
    "change_northeast = round(100*change_northeast / regions_bootstrap.get('Northeast').to_numpy()[0],2)\n",
    "print('Northeast: percent change over time period: ' + str(change_northeast)+'%')\n",
    "print('boostrap significance', round(percentile_northeast,5))"
   ]
  },
  {
   "cell_type": "code",
   "execution_count": 27,
   "id": "924d4cf1",
   "metadata": {},
   "outputs": [
    {
     "data": {
      "image/png": "[encoded data removed]",
      "text/plain": [
       "<Figure size 432x288 with 1 Axes>"
      ]
     },
     "metadata": {
      "needs_background": "light"
     },
     "output_type": "display_data"
    }
   ],
   "source": [
    "plt.hist(bootstrap_midwest, bins = 25);"
   ]
  },
  {
   "cell_type": "markdown",
   "id": "307d04fe",
   "metadata": {},
   "source": [
    "### Change in proportion/time and hypothesis tests for each region's seasons\n",
    "each cell must be run one after another since the variable names are the same for each region and the same as the total season variables"
   ]
  },
  {
   "cell_type": "markdown",
   "id": "f7b0c4a6",
   "metadata": {},
   "source": [
    "#### West"
   ]
  },
  {
   "cell_type": "code",
   "execution_count": 28,
   "id": "6129abe9",
   "metadata": {},
   "outputs": [
    {
     "data": {
      "text/html": [
       "<div>\n",
       "<style scoped>\n",
       "    .dataframe tbody tr th:only-of-type {\n",
       "        vertical-align: middle;\n",
       "    }\n",
       "\n",
       "    .dataframe tbody tr th {\n",
       "        vertical-align: top;\n",
       "    }\n",
       "\n",
       "    .dataframe thead th {\n",
       "        text-align: right;\n",
       "    }\n",
       "</style>\n",
       "<table border=\"1\" class=\"dataframe\">\n",
       "  <thead>\n",
       "    <tr style=\"text-align: right;\">\n",
       "      <th></th>\n",
       "      <th>Winter</th>\n",
       "      <th>Spring</th>\n",
       "      <th>Summer</th>\n",
       "      <th>Fall</th>\n",
       "    </tr>\n",
       "  </thead>\n",
       "  <tbody>\n",
       "    <tr>\n",
       "      <th>1992</th>\n",
       "      <td>0.031579</td>\n",
       "      <td>0.184211</td>\n",
       "      <td>0.668421</td>\n",
       "      <td>0.115789</td>\n",
       "    </tr>\n",
       "  </tbody>\n",
       "</table>\n",
       "</div>"
      ],
      "text/plain": [
       "        Winter    Spring    Summer      Fall\n",
       "1992  0.031579  0.184211  0.668421  0.115789"
      ]
     },
     "execution_count": 28,
     "metadata": {},
     "output_type": "execute_result"
    }
   ],
   "source": [
    "#fires/season over time\n",
    "winter_years = winter_w.groupby('FIRE_YEAR').count().get('FOD_ID').to_numpy()\n",
    "#not every year in the winter had a fire\n",
    "winter_years = [ 6,  5, 12,  3,  7,  9,  2,  9, 18,  2,  7,  2,  2, 0, 19,  8, 14, 10, 2, 10,  8,  3,  4,  5]\n",
    "spring_years = spring_w.groupby('FIRE_YEAR').count().get('FOD_ID').to_numpy()\n",
    "summer_years = summer_w.groupby('FIRE_YEAR').count().get('FOD_ID').to_numpy()\n",
    "fall_years = fall_w.groupby('FIRE_YEAR').count().get('FOD_ID').to_numpy()\n",
    "\n",
    "#each season gets a proportion of fires/year\n",
    "all_seasons = {'Winter': winter_years,'Spring': spring_years,\n",
    "               'Summer': summer_years,'Fall': fall_years}\n",
    "all_seasons_df = pd.DataFrame(all_seasons, index=years)\n",
    "season_rows = all_seasons_df.sum(axis=1)\n",
    "all_seasons_props = all_seasons_df.div(season_rows, axis=0)\n",
    "all_seasons_props.head(1)"
   ]
  },
  {
   "cell_type": "code",
   "execution_count": 29,
   "id": "c123352e",
   "metadata": {},
   "outputs": [
    {
     "name": "stdout",
     "output_type": "stream",
     "text": [
      "Winter: percent change over time period: -31.67%\n",
      "boostrap significance 80.3\n",
      "Spring: percent change over time period: -16.29%\n",
      "boostrap significance 71.74\n",
      "Summer: percent change over time period: 17.95%\n",
      "boostrap significance 93.14\n",
      "Fall: percent change over time period: -60.45%\n",
      "boostrap significance 99.18\n"
     ]
    }
   ],
   "source": [
    "seasons_bootstrap = all_seasons_props.reset_index().rename(columns={'index':'year'})\n",
    "#winter\n",
    "actual_winter = smf.ols('Winter ~ year', seasons_bootstrap).fit()\n",
    "change_winter = round(actual_winter.params[1]*24,2)\n",
    "bootstrap_winter = bootstrap_values(list(all_seasons_props['Winter']))\n",
    "percentile_winter = percentileofscore(bootstrap_winter, actual_winter.params[1])\n",
    "percentile_winter = check100(percentile_winter)\n",
    "change_winter = round(100*change_winter / seasons_bootstrap.get('Winter').to_numpy()[0],2)\n",
    "print('Winter: percent change over time period: ' + str(change_winter)+'%')\n",
    "print('boostrap significance', round(percentile_winter,2))\n",
    "#spring\n",
    "actual_spring = smf.ols('Spring ~ year', seasons_bootstrap).fit()\n",
    "change_spring = round(actual_spring.params[1]*24,2)\n",
    "bootstrap_spring = bootstrap_values(list(all_seasons_props['Spring']))\n",
    "percentile_spring = percentileofscore(bootstrap_spring, actual_spring.params[1])\n",
    "percentile_spring = check100(percentile_spring)\n",
    "change_spring = round(100*change_spring / seasons_bootstrap.get('Spring').to_numpy()[0],2)\n",
    "print('Spring: percent change over time period: ' + str(change_spring)+'%')\n",
    "print('boostrap significance', round(percentile_spring,2))\n",
    "#summer\n",
    "actual_summer = smf.ols('Summer ~ year', seasons_bootstrap).fit()\n",
    "change_summer = round(actual_summer.params[1]*24,2)\n",
    "bootstrap_summer = bootstrap_values(list(all_seasons_props['Summer']))\n",
    "percentile_summer = percentileofscore(bootstrap_summer, actual_summer.params[1])\n",
    "percentile_summer = check100(percentile_summer)\n",
    "change_summer = round(100*change_summer / seasons_bootstrap.get('Summer').to_numpy()[0],2)\n",
    "print('Summer: percent change over time period: ' + str(change_summer)+'%')\n",
    "print('boostrap significance', round(percentile_summer,2))\n",
    "#fall\n",
    "actual_fall = smf.ols('Fall ~ year', seasons_bootstrap).fit()\n",
    "change_fall = round(actual_fall.params[1]*24,2)\n",
    "bootstrap_fall = bootstrap_values(list(all_seasons_props['Fall']))\n",
    "percentile_fall = percentileofscore(bootstrap_fall, actual_fall.params[1])\n",
    "percentile_fall = check100(percentile_fall)\n",
    "change_fall = round(100*change_fall / seasons_bootstrap.get('Fall').to_numpy()[0],2)\n",
    "print('Fall: percent change over time period: ' + str(change_fall)+'%')\n",
    "print('boostrap significance', round(percentile_fall,2))"
   ]
  },
  {
   "cell_type": "markdown",
   "id": "cd20216a",
   "metadata": {},
   "source": [
    "#### South"
   ]
  },
  {
   "cell_type": "code",
   "execution_count": 30,
   "id": "e68902bf",
   "metadata": {},
   "outputs": [
    {
     "data": {
      "text/html": [
       "<div>\n",
       "<style scoped>\n",
       "    .dataframe tbody tr th:only-of-type {\n",
       "        vertical-align: middle;\n",
       "    }\n",
       "\n",
       "    .dataframe tbody tr th {\n",
       "        vertical-align: top;\n",
       "    }\n",
       "\n",
       "    .dataframe thead th {\n",
       "        text-align: right;\n",
       "    }\n",
       "</style>\n",
       "<table border=\"1\" class=\"dataframe\">\n",
       "  <thead>\n",
       "    <tr style=\"text-align: right;\">\n",
       "      <th></th>\n",
       "      <th>Winter</th>\n",
       "      <th>Spring</th>\n",
       "      <th>Summer</th>\n",
       "      <th>Fall</th>\n",
       "    </tr>\n",
       "  </thead>\n",
       "  <tbody>\n",
       "    <tr>\n",
       "      <th>1992</th>\n",
       "      <td>0.1875</td>\n",
       "      <td>0.21875</td>\n",
       "      <td>0.375</td>\n",
       "      <td>0.21875</td>\n",
       "    </tr>\n",
       "  </tbody>\n",
       "</table>\n",
       "</div>"
      ],
      "text/plain": [
       "      Winter   Spring  Summer     Fall\n",
       "1992  0.1875  0.21875   0.375  0.21875"
      ]
     },
     "execution_count": 30,
     "metadata": {},
     "output_type": "execute_result"
    }
   ],
   "source": [
    "#fires/season over time\n",
    "winter_years = winter_s.groupby('FIRE_YEAR').count().get('FOD_ID').to_numpy()\n",
    "spring_years = spring_s.groupby('FIRE_YEAR').count().get('FOD_ID').to_numpy()\n",
    "summer_years = summer_s.groupby('FIRE_YEAR').count().get('FOD_ID').to_numpy()\n",
    "fall_years = fall_s.groupby('FIRE_YEAR').count().get('FOD_ID').to_numpy()\n",
    "\n",
    "#each season gets a proportion of fires/year\n",
    "all_seasons = {'Winter': winter_years,'Spring': spring_years,\n",
    "               'Summer': summer_years,'Fall': fall_years}\n",
    "all_seasons_df = pd.DataFrame(all_seasons, index=years)\n",
    "season_rows = all_seasons_df.sum(axis=1)\n",
    "all_seasons_props = all_seasons_df.div(season_rows, axis=0)\n",
    "all_seasons_props.head(1)"
   ]
  },
  {
   "cell_type": "code",
   "execution_count": 31,
   "id": "acd07816",
   "metadata": {},
   "outputs": [
    {
     "name": "stdout",
     "output_type": "stream",
     "text": [
      "Winter: percent change over time period: 42.67%\n",
      "boostrap significance 80.66\n",
      "Spring: percent change over time period: 18.29%\n",
      "boostrap significance 66.44\n",
      "Summer: percent change over time period: 2.67%\n",
      "boostrap significance 53.74\n",
      "Fall: percent change over time period: -64.0%\n",
      "boostrap significance 88.54\n"
     ]
    }
   ],
   "source": [
    "seasons_bootstrap = all_seasons_props.reset_index().rename(columns={'index':'year'})\n",
    "#winter\n",
    "actual_winter = smf.ols('Winter ~ year', seasons_bootstrap).fit()\n",
    "change_winter = round(actual_winter.params[1]*24,2)\n",
    "bootstrap_winter = bootstrap_values(list(all_seasons_props['Winter']))\n",
    "percentile_winter = percentileofscore(bootstrap_winter, actual_winter.params[1])\n",
    "percentile_winter = check100(percentile_winter)\n",
    "change_winter = round(100*change_winter / seasons_bootstrap.get('Winter').to_numpy()[0],2)\n",
    "print('Winter: percent change over time period: ' + str(change_winter)+'%')\n",
    "print('boostrap significance', round(percentile_winter,2))\n",
    "#spring\n",
    "actual_spring = smf.ols('Spring ~ year', seasons_bootstrap).fit()\n",
    "change_spring = round(actual_spring.params[1]*24,2)\n",
    "bootstrap_spring = bootstrap_values(list(all_seasons_props['Spring']))\n",
    "percentile_spring = percentileofscore(bootstrap_spring, actual_spring.params[1])\n",
    "percentile_spring = check100(percentile_spring)\n",
    "change_spring = round(100*change_spring / seasons_bootstrap.get('Spring').to_numpy()[0],2)\n",
    "print('Spring: percent change over time period: ' + str(change_spring)+'%')\n",
    "print('boostrap significance', round(percentile_spring,2))\n",
    "#summer\n",
    "actual_summer = smf.ols('Summer ~ year', seasons_bootstrap).fit()\n",
    "change_summer = round(actual_summer.params[1]*24,2)\n",
    "bootstrap_summer = bootstrap_values(list(all_seasons_props['Summer']))\n",
    "percentile_summer = percentileofscore(bootstrap_summer, actual_summer.params[1])\n",
    "percentile_summer = check100(percentile_summer)\n",
    "change_summer = round(100*change_summer / seasons_bootstrap.get('Summer').to_numpy()[0],2)\n",
    "print('Summer: percent change over time period: ' + str(change_summer)+'%')\n",
    "print('boostrap significance', round(percentile_summer,2))\n",
    "#fall\n",
    "actual_fall = smf.ols('Fall ~ year', seasons_bootstrap).fit()\n",
    "change_fall = round(actual_fall.params[1]*24,2)\n",
    "bootstrap_fall = bootstrap_values(list(all_seasons_props['Fall']))\n",
    "percentile_fall = percentileofscore(bootstrap_fall, actual_fall.params[1])\n",
    "percentile_fall = check100(percentile_fall)\n",
    "change_fall = round(100*change_fall / seasons_bootstrap.get('Fall').to_numpy()[0],2)\n",
    "print('Fall: percent change over time period: ' + str(change_fall)+'%')\n",
    "print('boostrap significance', round(percentile_fall,2))"
   ]
  },
  {
   "cell_type": "markdown",
   "id": "7211489c",
   "metadata": {},
   "source": [
    "#### Midwest"
   ]
  },
  {
   "cell_type": "code",
   "execution_count": 32,
   "id": "964c1635",
   "metadata": {},
   "outputs": [
    {
     "data": {
      "text/html": [
       "<div>\n",
       "<style scoped>\n",
       "    .dataframe tbody tr th:only-of-type {\n",
       "        vertical-align: middle;\n",
       "    }\n",
       "\n",
       "    .dataframe tbody tr th {\n",
       "        vertical-align: top;\n",
       "    }\n",
       "\n",
       "    .dataframe thead th {\n",
       "        text-align: right;\n",
       "    }\n",
       "</style>\n",
       "<table border=\"1\" class=\"dataframe\">\n",
       "  <thead>\n",
       "    <tr style=\"text-align: right;\">\n",
       "      <th></th>\n",
       "      <th>Winter</th>\n",
       "      <th>Spring</th>\n",
       "      <th>Summer</th>\n",
       "      <th>Fall</th>\n",
       "    </tr>\n",
       "  </thead>\n",
       "  <tbody>\n",
       "    <tr>\n",
       "      <th>1992</th>\n",
       "      <td>0.076923</td>\n",
       "      <td>0.384615</td>\n",
       "      <td>0.0</td>\n",
       "      <td>0.538462</td>\n",
       "    </tr>\n",
       "  </tbody>\n",
       "</table>\n",
       "</div>"
      ],
      "text/plain": [
       "        Winter    Spring  Summer      Fall\n",
       "1992  0.076923  0.384615     0.0  0.538462"
      ]
     },
     "execution_count": 32,
     "metadata": {},
     "output_type": "execute_result"
    }
   ],
   "source": [
    "#fires/season over time\n",
    "winter_years = winter_mw.groupby('FIRE_YEAR').count().get('FOD_ID').to_numpy()\n",
    "winter_years = [1,0,6,5,5,2,2,5,14,1,2,0,0,2,11,3,12,6,0,3,10,0,10,9]\n",
    "spring_years = spring_mw.groupby('FIRE_YEAR').count().get('FOD_ID').to_numpy()\n",
    "summer_years = summer_mw.groupby('FIRE_YEAR').count().get('FOD_ID').to_numpy()\n",
    "summer_years = [0,1,2,7,4,0,5,1,41,6,24,14,3,12,49,17,3,0,2,5,42,0,2,1]\n",
    "fall_years = fall_mw.groupby('FIRE_YEAR').count().get('FOD_ID').to_numpy()\n",
    "fall_years = [7,3,1,3,1,1,3,28,10,2,0,3,0,1,3,7,3,3,2,16,11,1,5,5]\n",
    "\n",
    "#each season gets a proportion of fires/year\n",
    "all_seasons = {'Winter': winter_years,'Spring': spring_years,\n",
    "               'Summer': summer_years,'Fall': fall_years}\n",
    "all_seasons_df = pd.DataFrame(all_seasons, index=years)\n",
    "season_rows = all_seasons_df.sum(axis=1)\n",
    "all_seasons_props = all_seasons_df.div(season_rows, axis=0)\n",
    "all_seasons_props.head(1)"
   ]
  },
  {
   "cell_type": "code",
   "execution_count": 33,
   "id": "dee8c4d7",
   "metadata": {},
   "outputs": [
    {
     "name": "stdout",
     "output_type": "stream",
     "text": [
      "Winter: percent change over time period: 0.0%\n",
      "boostrap significance 51.06\n",
      "Spring: percent change over time period: 59.8%\n",
      "boostrap significance 95.04\n"
     ]
    },
    {
     "name": "stderr",
     "output_type": "stream",
     "text": [
      "<ipython-input-33-cce2b1227f12>:26: RuntimeWarning: divide by zero encountered in scalar divide\n",
      "  change_summer = round(100*change_summer / seasons_bootstrap.get('Summer').to_numpy()[0],2)\n"
     ]
    },
    {
     "name": "stdout",
     "output_type": "stream",
     "text": [
      "Summer: percent change over time period: -inf%\n",
      "boostrap significance 60.24\n",
      "Fall: percent change over time period: -37.14%\n",
      "boostrap significance 93.28\n"
     ]
    }
   ],
   "source": [
    "seasons_bootstrap = all_seasons_props.reset_index().rename(columns={'index':'year'})\n",
    "#winter\n",
    "actual_winter = smf.ols('Winter ~ year', seasons_bootstrap).fit()\n",
    "change_winter = round(actual_winter.params[1]*24,2)\n",
    "bootstrap_winter = bootstrap_values(list(all_seasons_props['Winter']))\n",
    "percentile_winter = percentileofscore(bootstrap_winter, actual_winter.params[1])\n",
    "percentile_winter = check100(percentile_winter)\n",
    "change_winter = round(100*change_winter / seasons_bootstrap.get('Winter').to_numpy()[0],2)\n",
    "print('Winter: percent change over time period: ' + str(change_winter)+'%')\n",
    "print('boostrap significance', round(percentile_winter,2))\n",
    "#spring\n",
    "actual_spring = smf.ols('Spring ~ year', seasons_bootstrap).fit()\n",
    "change_spring = round(actual_spring.params[1]*24,2)\n",
    "bootstrap_spring = bootstrap_values(list(all_seasons_props['Spring']))\n",
    "percentile_spring = percentileofscore(bootstrap_spring, actual_spring.params[1])\n",
    "percentile_spring = check100(percentile_spring)\n",
    "change_spring = round(100*change_spring / seasons_bootstrap.get('Spring').to_numpy()[0],2)\n",
    "print('Spring: percent change over time period: ' + str(change_spring)+'%')\n",
    "print('boostrap significance', round(percentile_spring,2))\n",
    "#summer\n",
    "actual_summer = smf.ols('Summer ~ year', seasons_bootstrap).fit()\n",
    "change_summer = round(actual_summer.params[1]*24,2)\n",
    "bootstrap_summer = bootstrap_values(list(all_seasons_props['Summer']))\n",
    "percentile_summer = percentileofscore(bootstrap_summer, actual_summer.params[1])\n",
    "percentile_summer = check100(percentile_summer)\n",
    "change_summer = round(100*change_summer / seasons_bootstrap.get('Summer').to_numpy()[0],2)\n",
    "print('Summer: percent change over time period: ' + str(change_summer)+'%')\n",
    "print('boostrap significance', round(percentile_summer,2))\n",
    "#fall\n",
    "actual_fall = smf.ols('Fall ~ year', seasons_bootstrap).fit()\n",
    "change_fall = round(actual_fall.params[1]*24,2)\n",
    "bootstrap_fall = bootstrap_values(list(all_seasons_props['Fall']))\n",
    "percentile_fall = percentileofscore(bootstrap_fall, actual_fall.params[1])\n",
    "percentile_fall = check100(percentile_fall)\n",
    "change_fall = round(100*change_fall / seasons_bootstrap.get('Fall').to_numpy()[0],2)\n",
    "print('Fall: percent change over time period: ' + str(change_fall)+'%')\n",
    "print('boostrap significance', round(percentile_fall,2))"
   ]
  },
  {
   "cell_type": "markdown",
   "id": "09093d5e",
   "metadata": {},
   "source": [
    "#### Northeast"
   ]
  },
  {
   "cell_type": "code",
   "execution_count": 34,
   "id": "59ab9437",
   "metadata": {},
   "outputs": [
    {
     "data": {
      "text/plain": [
       "24"
      ]
     },
     "execution_count": 34,
     "metadata": {},
     "output_type": "execute_result"
    }
   ],
   "source": [
    "#all seasons\n",
    "fall_ne.groupby('FIRE_YEAR').count()\n",
    "len([0,0,0,0,0,0,0,0,0,0,0,0,0,0,0,0,1,0,0,0,0,0,0,0])"
   ]
  },
  {
   "cell_type": "code",
   "execution_count": 35,
   "id": "f82ef875",
   "metadata": {},
   "outputs": [
    {
     "data": {
      "text/html": [
       "<div>\n",
       "<style scoped>\n",
       "    .dataframe tbody tr th:only-of-type {\n",
       "        vertical-align: middle;\n",
       "    }\n",
       "\n",
       "    .dataframe tbody tr th {\n",
       "        vertical-align: top;\n",
       "    }\n",
       "\n",
       "    .dataframe thead th {\n",
       "        text-align: right;\n",
       "    }\n",
       "</style>\n",
       "<table border=\"1\" class=\"dataframe\">\n",
       "  <thead>\n",
       "    <tr style=\"text-align: right;\">\n",
       "      <th></th>\n",
       "      <th>Winter</th>\n",
       "      <th>Spring</th>\n",
       "      <th>Summer</th>\n",
       "      <th>Fall</th>\n",
       "    </tr>\n",
       "  </thead>\n",
       "  <tbody>\n",
       "    <tr>\n",
       "      <th>1992</th>\n",
       "      <td>0.0</td>\n",
       "      <td>1.0</td>\n",
       "      <td>0.0</td>\n",
       "      <td>0.0</td>\n",
       "    </tr>\n",
       "  </tbody>\n",
       "</table>\n",
       "</div>"
      ],
      "text/plain": [
       "      Winter  Spring  Summer  Fall\n",
       "1992     0.0     1.0     0.0   0.0"
      ]
     },
     "execution_count": 35,
     "metadata": {},
     "output_type": "execute_result"
    }
   ],
   "source": [
    "#fires/season over time\n",
    "winter_years = winter_ne.groupby('FIRE_YEAR').count().get('FOD_ID').to_numpy()\n",
    "winter_years = np.zeros(24)\n",
    "spring_years = spring_ne.groupby('FIRE_YEAR').count().get('FOD_ID').to_numpy()\n",
    "spring_years = [5,0,0,1,0,0,0,1,0,1,1,0,1,0,1,1,3,1,0,0,1,0,3,1]\n",
    "summer_years = summer_ne.groupby('FIRE_YEAR').count().get('FOD_ID').to_numpy()\n",
    "summer_years = [0,0,0,2,0,1,0,0,0,0,1,0,0,0,0,1,0,0,1,0,0,0,0,1]\n",
    "fall_years = fall_ne.groupby('FIRE_YEAR').count().get('FOD_ID').to_numpy()\n",
    "fall_years = [0,0,0,0,0,0,0,0,0,0,0,0,0,0,0,0,1,0,0,0,0,0,0,0]\n",
    "\n",
    "#each season gets a proportion of fires/year\n",
    "all_seasons = {'Winter': winter_years,'Spring': spring_years,\n",
    "               'Summer': summer_years,'Fall': fall_years}\n",
    "all_seasons_df = pd.DataFrame(all_seasons, index=years)\n",
    "season_rows = all_seasons_df.sum(axis=1)\n",
    "all_seasons_props = all_seasons_df.div(season_rows, axis=0)\n",
    "all_seasons_props.head(1)"
   ]
  },
  {
   "cell_type": "code",
   "execution_count": 39,
   "id": "75b4890d",
   "metadata": {},
   "outputs": [
    {
     "name": "stdout",
     "output_type": "stream",
     "text": [
      "20\n",
      "96\n"
     ]
    }
   ],
   "source": [
    "print(len(winter_ne.groupby('FIRE_YEAR').count().get('FOD_ID').to_numpy()) + len(spring_ne.groupby('FIRE_YEAR').count().get('FOD_ID').to_numpy()) + len(summer_ne.groupby('FIRE_YEAR').count().get('FOD_ID').to_numpy()) + len(fall_ne.groupby('FIRE_YEAR').count().get('FOD_ID').to_numpy()))\n",
    "print(24*4)"
   ]
  },
  {
   "cell_type": "code",
   "execution_count": 41,
   "id": "2c35079a",
   "metadata": {},
   "outputs": [
    {
     "data": {
      "text/plain": [
       "20.833333333333336"
      ]
     },
     "execution_count": 41,
     "metadata": {},
     "output_type": "execute_result"
    }
   ],
   "source": [
    "(20/96) * 100"
   ]
  },
  {
   "cell_type": "code",
   "execution_count": 36,
   "id": "c6889104",
   "metadata": {},
   "outputs": [
    {
     "name": "stderr",
     "output_type": "stream",
     "text": [
      "<ipython-input-36-cce2b1227f12>:8: RuntimeWarning: invalid value encountered in scalar divide\n",
      "  change_winter = round(100*change_winter / seasons_bootstrap.get('Winter').to_numpy()[0],2)\n"
     ]
    },
    {
     "name": "stdout",
     "output_type": "stream",
     "text": [
      "Winter: percent change over time period: nan%\n",
      "boostrap significance 50.01\n",
      "Spring: percent change over time period: 11.0%\n",
      "boostrap significance 63.3\n"
     ]
    },
    {
     "name": "stderr",
     "output_type": "stream",
     "text": [
      "<ipython-input-36-cce2b1227f12>:26: RuntimeWarning: divide by zero encountered in scalar divide\n",
      "  change_summer = round(100*change_summer / seasons_bootstrap.get('Summer').to_numpy()[0],2)\n"
     ]
    },
    {
     "name": "stdout",
     "output_type": "stream",
     "text": [
      "Summer: percent change over time period: -inf%\n",
      "boostrap significance 65.94\n",
      "Fall: percent change over time period: inf%\n",
      "boostrap significance 64.26\n"
     ]
    },
    {
     "name": "stderr",
     "output_type": "stream",
     "text": [
      "<ipython-input-36-cce2b1227f12>:35: RuntimeWarning: divide by zero encountered in scalar divide\n",
      "  change_fall = round(100*change_fall / seasons_bootstrap.get('Fall').to_numpy()[0],2)\n"
     ]
    }
   ],
   "source": [
    "seasons_bootstrap = all_seasons_props.reset_index().rename(columns={'index':'year'})\n",
    "#winter\n",
    "actual_winter = smf.ols('Winter ~ year', seasons_bootstrap).fit()\n",
    "change_winter = round(actual_winter.params[1]*24,2)\n",
    "bootstrap_winter = bootstrap_values(list(all_seasons_props['Winter']))\n",
    "percentile_winter = percentileofscore(bootstrap_winter, actual_winter.params[1])\n",
    "percentile_winter = check100(percentile_winter)\n",
    "change_winter = round(100*change_winter / seasons_bootstrap.get('Winter').to_numpy()[0],2)\n",
    "print('Winter: percent change over time period: ' + str(change_winter)+'%')\n",
    "print('boostrap significance', round(percentile_winter,2))\n",
    "#spring\n",
    "actual_spring = smf.ols('Spring ~ year', seasons_bootstrap).fit()\n",
    "change_spring = round(actual_spring.params[1]*24,2)\n",
    "bootstrap_spring = bootstrap_values(list(all_seasons_props['Spring']))\n",
    "percentile_spring = percentileofscore(bootstrap_spring, actual_spring.params[1])\n",
    "percentile_spring = check100(percentile_spring)\n",
    "change_spring = round(100*change_spring / seasons_bootstrap.get('Spring').to_numpy()[0],2)\n",
    "print('Spring: percent change over time period: ' + str(change_spring)+'%')\n",
    "print('boostrap significance', round(percentile_spring,2))\n",
    "#summer\n",
    "actual_summer = smf.ols('Summer ~ year', seasons_bootstrap).fit()\n",
    "change_summer = round(actual_summer.params[1]*24,2)\n",
    "bootstrap_summer = bootstrap_values(list(all_seasons_props['Summer']))\n",
    "percentile_summer = percentileofscore(bootstrap_summer, actual_summer.params[1])\n",
    "percentile_summer = check100(percentile_summer)\n",
    "change_summer = round(100*change_summer / seasons_bootstrap.get('Summer').to_numpy()[0],2)\n",
    "print('Summer: percent change over time period: ' + str(change_summer)+'%')\n",
    "print('boostrap significance', round(percentile_summer,2))\n",
    "#fall\n",
    "actual_fall = smf.ols('Fall ~ year', seasons_bootstrap).fit()\n",
    "change_fall = round(actual_fall.params[1]*24,2)\n",
    "bootstrap_fall = bootstrap_values(list(all_seasons_props['Fall']))\n",
    "percentile_fall = percentileofscore(bootstrap_fall, actual_fall.params[1])\n",
    "percentile_fall = check100(percentile_fall)\n",
    "change_fall = round(100*change_fall / seasons_bootstrap.get('Fall').to_numpy()[0],2)\n",
    "print('Fall: percent change over time period: ' + str(change_fall)+'%')\n",
    "print('boostrap significance', round(percentile_fall,2))"
   ]
  }
 ],
 "metadata": {
  "kernelspec": {
   "display_name": "Python 3",
   "language": "python",
   "name": "python3"
  },
  "language_info": {
   "codemirror_mode": {
    "name": "ipython",
    "version": 3
   },
   "file_extension": ".py",
   "mimetype": "text/x-python",
   "name": "python",
   "nbconvert_exporter": "python",
   "pygments_lexer": "ipython3",
   "version": "3.8.8"
  }
 },
 "nbformat": 4,
 "nbformat_minor": 5
}
