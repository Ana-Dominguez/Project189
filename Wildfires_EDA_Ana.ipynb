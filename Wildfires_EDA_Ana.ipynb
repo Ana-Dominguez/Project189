{
 "cells": [
  {
   "cell_type": "code",
   "execution_count": 1,
   "id": "a1db0ccf",
   "metadata": {},
   "outputs": [],
   "source": [
    "import sqlite3\n",
    "import pandas as pd\n",
    "import numpy as np\n",
    "import matplotlib.pyplot as plt"
   ]
  },
  {
   "cell_type": "markdown",
   "id": "ce9cca99",
   "metadata": {},
   "source": [
    "### Load data from .sqlite file"
   ]
  },
  {
   "cell_type": "code",
   "execution_count": 2,
   "id": "bab919f4",
   "metadata": {},
   "outputs": [],
   "source": [
    "# Connect to the SQLite database\n",
    "conn = sqlite3.connect('wildfires.sqlite')\n",
    "\n",
    "# Create a cursor object\n",
    "cursor = conn.cursor()\n",
    "\n",
    "# Fetch the table names from the database\n",
    "cursor.execute(\"SELECT name FROM sqlite_master WHERE type='table';\")\n",
    "table_names = cursor.fetchall()\n",
    "\n",
    "# Select the first table name\n",
    "table_name = table_names[21][0]  # Assuming there is at least one table in the database"
   ]
  },
  {
   "cell_type": "code",
   "execution_count": 3,
   "id": "51bde12f",
   "metadata": {},
   "outputs": [],
   "source": [
    "# Execute a query to fetch data from the selected table\n",
    "cursor.execute(f\"SELECT * FROM {table_name}\")\n",
    "\n",
    "# Fetch all the results and store them as a list of tuples\n",
    "data = cursor.fetchall()\n",
    "\n",
    "# Get column names from cursor description\n",
    "columns = [col[0] for col in cursor.description]\n",
    "\n",
    "# Close the cursor and the connection\n",
    "cursor.close()\n",
    "conn.close()\n",
    "\n",
    "# Create a DataFrame from the fetched data\n",
    "df_all_cols = pd.DataFrame(data, columns=columns)"
   ]
  },
  {
   "cell_type": "code",
   "execution_count": 4,
   "id": "14eef4f4",
   "metadata": {},
   "outputs": [
    {
     "data": {
      "text/html": [
       "<div>\n",
       "<style scoped>\n",
       "    .dataframe tbody tr th:only-of-type {\n",
       "        vertical-align: middle;\n",
       "    }\n",
       "\n",
       "    .dataframe tbody tr th {\n",
       "        vertical-align: top;\n",
       "    }\n",
       "\n",
       "    .dataframe thead th {\n",
       "        text-align: right;\n",
       "    }\n",
       "</style>\n",
       "<table border=\"1\" class=\"dataframe\">\n",
       "  <thead>\n",
       "    <tr style=\"text-align: right;\">\n",
       "      <th></th>\n",
       "      <th>FOD_ID</th>\n",
       "      <th>FIRE_SIZE_CLASS</th>\n",
       "      <th>LATITUDE</th>\n",
       "      <th>LONGITUDE</th>\n",
       "      <th>STATE</th>\n",
       "      <th>FIRE_NAME</th>\n",
       "      <th>DISCOVERY_DATE</th>\n",
       "      <th>DISCOVERY_DOY</th>\n",
       "      <th>FIRE_YEAR</th>\n",
       "      <th>STAT_CAUSE_CODE</th>\n",
       "      <th>STAT_CAUSE_DESCR</th>\n",
       "      <th>CONT_DATE</th>\n",
       "      <th>FIRE_SIZE</th>\n",
       "    </tr>\n",
       "  </thead>\n",
       "  <tbody>\n",
       "    <tr>\n",
       "      <th>0</th>\n",
       "      <td>1</td>\n",
       "      <td>A</td>\n",
       "      <td>40.036944</td>\n",
       "      <td>-121.005833</td>\n",
       "      <td>CA</td>\n",
       "      <td>FOUNTAIN</td>\n",
       "      <td>2453403.5</td>\n",
       "      <td>33</td>\n",
       "      <td>2005</td>\n",
       "      <td>9.0</td>\n",
       "      <td>Miscellaneous</td>\n",
       "      <td>2453403.5</td>\n",
       "      <td>0.10</td>\n",
       "    </tr>\n",
       "    <tr>\n",
       "      <th>1</th>\n",
       "      <td>2</td>\n",
       "      <td>A</td>\n",
       "      <td>38.933056</td>\n",
       "      <td>-120.404444</td>\n",
       "      <td>CA</td>\n",
       "      <td>PIGEON</td>\n",
       "      <td>2453137.5</td>\n",
       "      <td>133</td>\n",
       "      <td>2004</td>\n",
       "      <td>1.0</td>\n",
       "      <td>Lightning</td>\n",
       "      <td>2453137.5</td>\n",
       "      <td>0.25</td>\n",
       "    </tr>\n",
       "    <tr>\n",
       "      <th>2</th>\n",
       "      <td>3</td>\n",
       "      <td>A</td>\n",
       "      <td>38.984167</td>\n",
       "      <td>-120.735556</td>\n",
       "      <td>CA</td>\n",
       "      <td>SLACK</td>\n",
       "      <td>2453156.5</td>\n",
       "      <td>152</td>\n",
       "      <td>2004</td>\n",
       "      <td>5.0</td>\n",
       "      <td>Debris Burning</td>\n",
       "      <td>2453156.5</td>\n",
       "      <td>0.10</td>\n",
       "    </tr>\n",
       "    <tr>\n",
       "      <th>3</th>\n",
       "      <td>4</td>\n",
       "      <td>A</td>\n",
       "      <td>38.559167</td>\n",
       "      <td>-119.913333</td>\n",
       "      <td>CA</td>\n",
       "      <td>DEER</td>\n",
       "      <td>2453184.5</td>\n",
       "      <td>180</td>\n",
       "      <td>2004</td>\n",
       "      <td>1.0</td>\n",
       "      <td>Lightning</td>\n",
       "      <td>2453189.5</td>\n",
       "      <td>0.10</td>\n",
       "    </tr>\n",
       "    <tr>\n",
       "      <th>4</th>\n",
       "      <td>5</td>\n",
       "      <td>A</td>\n",
       "      <td>38.559167</td>\n",
       "      <td>-119.933056</td>\n",
       "      <td>CA</td>\n",
       "      <td>STEVENOT</td>\n",
       "      <td>2453184.5</td>\n",
       "      <td>180</td>\n",
       "      <td>2004</td>\n",
       "      <td>1.0</td>\n",
       "      <td>Lightning</td>\n",
       "      <td>2453189.5</td>\n",
       "      <td>0.10</td>\n",
       "    </tr>\n",
       "  </tbody>\n",
       "</table>\n",
       "</div>"
      ],
      "text/plain": [
       "   FOD_ID FIRE_SIZE_CLASS   LATITUDE   LONGITUDE STATE FIRE_NAME  \\\n",
       "0       1               A  40.036944 -121.005833    CA  FOUNTAIN   \n",
       "1       2               A  38.933056 -120.404444    CA    PIGEON   \n",
       "2       3               A  38.984167 -120.735556    CA     SLACK   \n",
       "3       4               A  38.559167 -119.913333    CA      DEER   \n",
       "4       5               A  38.559167 -119.933056    CA  STEVENOT   \n",
       "\n",
       "   DISCOVERY_DATE  DISCOVERY_DOY  FIRE_YEAR  STAT_CAUSE_CODE STAT_CAUSE_DESCR  \\\n",
       "0       2453403.5             33       2005              9.0    Miscellaneous   \n",
       "1       2453137.5            133       2004              1.0        Lightning   \n",
       "2       2453156.5            152       2004              5.0   Debris Burning   \n",
       "3       2453184.5            180       2004              1.0        Lightning   \n",
       "4       2453184.5            180       2004              1.0        Lightning   \n",
       "\n",
       "   CONT_DATE  FIRE_SIZE  \n",
       "0  2453403.5       0.10  \n",
       "1  2453137.5       0.25  \n",
       "2  2453156.5       0.10  \n",
       "3  2453189.5       0.10  \n",
       "4  2453189.5       0.10  "
      ]
     },
     "execution_count": 4,
     "metadata": {},
     "output_type": "execute_result"
    }
   ],
   "source": [
    "df = df_all_cols[['FOD_ID','FIRE_SIZE_CLASS', 'LATITUDE', 'LONGITUDE', 'STATE', 'FIRE_NAME', 'DISCOVERY_DATE', 'DISCOVERY_DOY', 'FIRE_YEAR', 'STAT_CAUSE_CODE', 'STAT_CAUSE_DESCR', 'CONT_DATE', 'FIRE_SIZE']]\n",
    "df.head()"
   ]
  },
  {
   "cell_type": "markdown",
   "id": "78cae69b",
   "metadata": {},
   "source": [
    "#### Outline of what the code below achieves\n",
    "\n",
    "* Plotting change in frequency of wildfires over time\n",
    "    - Compare this within different regions/seasons\n",
    "    - Perform a hypothesis test to determine if some regions have different peak times and different frequencies, also to determine maximum confidence by which we can say that wildfires have increased in frequency"
   ]
  },
  {
   "cell_type": "markdown",
   "id": "e415fd77",
   "metadata": {},
   "source": [
    "### Filter fires by region, season, and region+season"
   ]
  },
  {
   "cell_type": "code",
   "execution_count": 5,
   "id": "66d49334",
   "metadata": {},
   "outputs": [],
   "source": [
    "northeast = ['ME', 'NH', 'VT', 'MA', 'RI', 'CT', 'NY', 'NJ', 'PA']\n",
    "midwest = ['OH', 'MI', 'IN', 'WI', 'IL', 'MN', 'IO', 'MO', 'ND', 'SD', 'NE', 'KS']\n",
    "south = ['DE', 'MD', 'VI', 'WV', 'KY', 'NC', 'SC', 'TN', 'GA', 'FL', 'AL', 'MS', 'AR', 'LA', 'TX', 'OK']\n",
    "west = ['MT', 'ID', 'WY', 'CO', 'NM', 'AZ', 'UT', 'NV', 'CA', 'OR', 'WA']\n",
    "#from US Census Bureau: https://www2.census.gov/geo/pdfs/maps-data/maps/reference/us_regdiv.pdf\n",
    "#exclues AK + HI for simiplicity\n",
    "\n",
    "#winter = days 354-365 + 0-78\n",
    "#spring = days 79-170\n",
    "#summer = days 171-262\n",
    "#fall = days 263-353"
   ]
  },
  {
   "cell_type": "code",
   "execution_count": 29,
   "id": "90662137",
   "metadata": {},
   "outputs": [],
   "source": [
    "northeast_df = df[df['STATE'].isin(northeast)]\n",
    "midwest_df = df[df['STATE'].isin(midwest)]\n",
    "south_df = df[df['STATE'].isin(south)]\n",
    "west_df = df[df['STATE'].isin(west)]"
   ]
  },
  {
   "cell_type": "code",
   "execution_count": 30,
   "id": "83f663b5",
   "metadata": {},
   "outputs": [],
   "source": [
    "winter = df[(df.get('DISCOVERY_DOY') >= 354) | (df.get('DISCOVERY_DOY') <= 78)]\n",
    "spring = df[(df.get('DISCOVERY_DOY') >= 79) & (df.get('DISCOVERY_DOY') <= 170)]\n",
    "summer = df[(df.get('DISCOVERY_DOY') >= 171) & (df.get('DISCOVERY_DOY') <= 262)]\n",
    "fall = df[(df.get('DISCOVERY_DOY') >= 263) & (df.get('DISCOVERY_DOY') <= 353)]"
   ]
  },
  {
   "cell_type": "code",
   "execution_count": 31,
   "id": "6af7aa79",
   "metadata": {},
   "outputs": [],
   "source": [
    "winter_ne = northeast_df[(northeast_df.get('DISCOVERY_DOY') >= 354) | (northeast_df.get('DISCOVERY_DOY') <= 78)]\n",
    "spring_ne = northeast_df[(northeast_df.get('DISCOVERY_DOY') >= 79) & (northeast_df.get('DISCOVERY_DOY') <= 170)]\n",
    "summer_ne = northeast_df[(northeast_df.get('DISCOVERY_DOY') >= 171) & (northeast_df.get('DISCOVERY_DOY') <= 262)]\n",
    "fall_ne = northeast_df[(northeast_df.get('DISCOVERY_DOY') >= 263) & (northeast_df.get('DISCOVERY_DOY') <= 353)]"
   ]
  },
  {
   "cell_type": "code",
   "execution_count": 32,
   "id": "d1868a78",
   "metadata": {},
   "outputs": [],
   "source": [
    "winter_mw = midwest_df[(midwest_df.get('DISCOVERY_DOY') >= 354) | (midwest_df.get('DISCOVERY_DOY') <= 78)]\n",
    "spring_mw = midwest_df[(midwest_df.get('DISCOVERY_DOY') >= 79) & (midwest_df.get('DISCOVERY_DOY') <= 170)]\n",
    "summer_mw = midwest_df[(midwest_df.get('DISCOVERY_DOY') >= 171) & (midwest_df.get('DISCOVERY_DOY') <= 262)]\n",
    "fall_mw = midwest_df[(midwest_df.get('DISCOVERY_DOY') >= 263) & (midwest_df.get('DISCOVERY_DOY') <= 353)]"
   ]
  },
  {
   "cell_type": "code",
   "execution_count": 33,
   "id": "330c9c2b",
   "metadata": {},
   "outputs": [],
   "source": [
    "winter_s = south_df[(south_df.get('DISCOVERY_DOY') >= 354) | (south_df.get('DISCOVERY_DOY') <= 78)]\n",
    "spring_s = south_df[(south_df.get('DISCOVERY_DOY') >= 79) & (south_df.get('DISCOVERY_DOY') <= 170)]\n",
    "summer_s = south_df[(south_df.get('DISCOVERY_DOY') >= 171) & (south_df.get('DISCOVERY_DOY') <= 262)]\n",
    "fall_s = south_df[(south_df.get('DISCOVERY_DOY') >= 263) & (south_df.get('DISCOVERY_DOY') <= 353)]"
   ]
  },
  {
   "cell_type": "code",
   "execution_count": 34,
   "id": "9e6c79c5",
   "metadata": {},
   "outputs": [],
   "source": [
    "winter_w = west_df[(west_df.get('DISCOVERY_DOY') >= 354) | (west_df.get('DISCOVERY_DOY') <= 78)]\n",
    "spring_w = west_df[(west_df.get('DISCOVERY_DOY') >= 79) & (west_df.get('DISCOVERY_DOY') <= 170)]\n",
    "summer_w = west_df[(west_df.get('DISCOVERY_DOY') >= 171) & (west_df.get('DISCOVERY_DOY') <= 262)]\n",
    "fall_w = west_df[(west_df.get('DISCOVERY_DOY') >= 263) & (west_df.get('DISCOVERY_DOY') <= 353)]"
   ]
  },
  {
   "cell_type": "markdown",
   "id": "ae7ebac4",
   "metadata": {},
   "source": [
    "### Compare seaonality and regionality of fires"
   ]
  },
  {
   "cell_type": "code",
   "execution_count": 25,
   "id": "62669890",
   "metadata": {
    "scrolled": true
   },
   "outputs": [
    {
     "data": {
      "image/png": "[encoded data removed]",
      "text/plain": [
       "<Figure size 432x288 with 1 Axes>"
      ]
     },
     "metadata": {
      "needs_background": "light"
     },
     "output_type": "display_data"
    }
   ],
   "source": [
    "#Percent of fires per season\n",
    "winter_fires = round(100*winter.shape[0]/df.shape[0],1)\n",
    "spring_fires = round(100*spring.shape[0]/df.shape[0],1)\n",
    "summer_fires = round(100*summer.shape[0]/df.shape[0],1)\n",
    "fall_fires = round(100*fall.shape[0]/df.shape[0],1)\n",
    "\n",
    "#plot fires / season\n",
    "fig, ax = plt.subplots()\n",
    "ax.bar(['Winter','Spring','Summer','Fall'], [winter_fires, spring_fires, summer_fires, fall_fires], \n",
    "       color = ['lightsteelblue','limegreen','gold','darkorange'])\n",
    "ax.set_xlabel('Seasons')\n",
    "ax.set_ylabel('Percent of Fires')\n",
    "ax.set_ylim(0, 100)\n",
    "ax.set_title('Percent of Fires per Season')\n",
    "plt.show()"
   ]
  },
  {
   "cell_type": "code",
   "execution_count": 24,
   "id": "49aaf761",
   "metadata": {},
   "outputs": [
    {
     "data": {
      "image/png": "[encoded data removed]",
      "text/plain": [
       "<Figure size 432x288 with 1 Axes>"
      ]
     },
     "metadata": {
      "needs_background": "light"
     },
     "output_type": "display_data"
    }
   ],
   "source": [
    "#Percent of fires per region\n",
    "ne_fires = round(100*northeast_df.shape[0]/df.shape[0],1)\n",
    "mw_fires = round(100*midwest_df.shape[0]/df.shape[0],1)\n",
    "s_fires = round(100*south_df.shape[0]/df.shape[0],1)\n",
    "w_fires = round(100*west_df.shape[0]/df.shape[0],1)\n",
    "\n",
    "#plot fires / region\n",
    "fig, ax = plt.subplots()\n",
    "ax.bar(['West','South','Midwest','Northeast'], [w_fires, s_fires, mw_fires, ne_fires], \n",
    "       color = ['darkgreen','red','darkorchid','mediumturquoise'])\n",
    "ax.set_xlabel('Regions')\n",
    "ax.set_ylabel('Percent of Fires')\n",
    "ax.set_ylim(0, 100)\n",
    "ax.set_title('Percent of Fires per Region')\n",
    "plt.show()"
   ]
  },
  {
   "cell_type": "code",
   "execution_count": null,
   "id": "4affdc1c",
   "metadata": {},
   "outputs": [],
   "source": [
    "#Percent of fires in NE per season\n",
    "winter_in_ne = round(100*winter_ne.shape[0]/northeast_df.shape[0],1)\n",
    "spring_in_ne = round(100*spring_ne.shape[0]/northeast_df.shape[0],1)\n",
    "summer_in_ne = round(100*summer_ne.shape[0]/northeast_df.shape[0],1)\n",
    "fall_in_ne = round(100*fall_ne.shape[0]/northeast_df.shape[0],1)\n",
    "ne_season_fires = [winter_in_ne,spring_in_ne,summer_in_ne,fall_in_ne]\n",
    "\n",
    "#Percent of fires in MW per season\n",
    "winter_in_mw = round(100*winter_mw.shape[0]/midwest_df.shape[0],1)\n",
    "spring_in_mw = round(100*spring_mw.shape[0]/midwest_df.shape[0],1)\n",
    "summer_in_mw = round(100*summer_mw.shape[0]/midwest_df.shape[0],1)\n",
    "fall_in_mw = round(100*fall_mw.shape[0]/midwest_df.shape[0],1)\n",
    "mw_season_fires = [winter_in_mw,spring_in_mw,summer_in_mw,fall_in_mw]\n",
    "\n",
    "#Percent of fires in S per season\n",
    "winter_in_s = round(100*winter_s.shape[0]/south_df.shape[0],1)\n",
    "spring_in_s = round(100*spring_s.shape[0]/south_df.shape[0],1)\n",
    "summer_in_s = round(100*summer_s.shape[0]/south_df.shape[0],1)\n",
    "fall_in_s = round(100*fall_s.shape[0]/south_df.shape[0],1)\n",
    "s_season_fires = [winter_in_s,spring_in_s,summer_in_s,fall_in_s]\n",
    "\n",
    "#Percent of fires in W per season\n",
    "winter_in_w = round(100*winter_w.shape[0]/west_df.shape[0],1)\n",
    "spring_in_w = round(100*spring_w.shape[0]/west_df.shape[0],1)\n",
    "summer_in_w = round(100*summer_w.shape[0]/west_df.shape[0],1)\n",
    "fall_in_w = round(100*fall_w.shape[0]/west_df.shape[0],1)\n",
    "w_season_fires = [winter_in_w,spring_in_w,summer_in_w,fall_in_w]"
   ]
  },
  {
   "cell_type": "code",
   "execution_count": 41,
   "id": "83d4b25f",
   "metadata": {},
   "outputs": [
    {
     "data": {
      "image/png": "[encoded data removed]",
      "text/plain": [
       "<Figure size 720x576 with 4 Axes>"
      ]
     },
     "metadata": {
      "needs_background": "light"
     },
     "output_type": "display_data"
    }
   ],
   "source": [
    "#plot all regions' seasonal frequencies onto same plot\n",
    "seasons = ['Winter', 'Spring', 'Summer', 'Fall']\n",
    "all_season_regions = [mw_season_fires,ne_season_fires,w_season_fires,s_season_fires]\n",
    "fig, axs = plt.subplots(2, 2, figsize=(10, 8), sharey=True)\n",
    "sub_titles = ['Midwest','Northeast','West','South']\n",
    "for ax, sub_title, region in zip(axs.flat, sub_titles, all_season_regions):\n",
    "    ax.bar(['Winter', 'Spring', 'Summer', 'Fall'], region, color=['lightsteelblue','limegreen','gold','darkorange'])\n",
    "    ax.set_title(sub_title)\n",
    "    ax.set_ylim(0, 100)\n",
    "    ax.set_xlabel('Season')\n",
    "fig.text(0.04, 0.5, 'Percent of Fires', va='center', rotation='vertical')\n",
    "fig.suptitle('Percent of Fires in Each Region by Season',size=15.0)\n",
    "fig.tight_layout(rect=[0.05, 0.05, 1, 0.95])\n",
    "plt.show()"
   ]
  },
  {
   "cell_type": "markdown",
   "id": "a6fba30d",
   "metadata": {},
   "source": [
    "### Examine change in frequency over time / region, season, region+season"
   ]
  },
  {
   "cell_type": "code",
   "execution_count": 48,
   "id": "e82bb49d",
   "metadata": {},
   "outputs": [
    {
     "data": {
      "text/plain": [
       "Text(0, 0.5, 'Number of Fires')"
      ]
     },
     "execution_count": 48,
     "metadata": {},
     "output_type": "execute_result"
    },
    {
     "data": {
      "image/png": "[encoded data removed]",
      "text/plain": [
       "<Figure size 432x288 with 1 Axes>"
      ]
     },
     "metadata": {
      "needs_background": "light"
     },
     "output_type": "display_data"
    }
   ],
   "source": [
    "#df names: regionname_df, season, season_region\n",
    "#get a frequency of fires/year, then plot\n",
    "#24 years of data\n",
    "\n",
    "df_years = df.groupby('FIRE_YEAR').count()\n",
    "plt.plot(df_years.reset_index().get('FIRE_YEAR').to_numpy(), df_years.get('FOD_ID').to_numpy())\n",
    "plt.title('Number of Fires/Year over Time')\n",
    "plt.xlabel('Year')\n",
    "plt.ylabel('Number of Fires')"
   ]
  },
  {
   "cell_type": "code",
   "execution_count": 51,
   "id": "675edd0f",
   "metadata": {},
   "outputs": [
    {
     "data": {
      "text/plain": [
       "Text(0, 0.5, 'Number of Fires')"
      ]
     },
     "execution_count": 51,
     "metadata": {},
     "output_type": "execute_result"
    },
    {
     "data": {
      "image/png": "[encoded data removed]",
      "text/plain": [
       "<Figure size 432x288 with 1 Axes>"
      ]
     },
     "metadata": {
      "needs_background": "light"
     },
     "output_type": "display_data"
    }
   ],
   "source": [
    "#fires/region over time\n",
    "west_years = west_df.groupby('FIRE_YEAR').count()\n",
    "south_years = south_df.groupby('FIRE_YEAR').count()\n",
    "midwest_years = midwest_df.groupby('FIRE_YEAR').count()\n",
    "northeast_years = northeast_df.groupby('FIRE_YEAR').count()\n",
    "\n",
    "#plot all regions' change in frequency over time\n",
    "plt.plot(west_years.reset_index().get('FIRE_YEAR').to_numpy(), west_years.get('FOD_ID').to_numpy(),color='darkgreen')\n",
    "plt.plot(south_years.reset_index().get('FIRE_YEAR').to_numpy(), south_years.get('FOD_ID').to_numpy(),color='red')\n",
    "plt.plot(midwest_years.reset_index().get('FIRE_YEAR').to_numpy(), midwest_years.get('FOD_ID').to_numpy(),color='darkorchid')\n",
    "plt.plot(northeast_years.reset_index().get('FIRE_YEAR').to_numpy(), northeast_years.get('FOD_ID').to_numpy(),color='mediumturquoise')\n",
    "plt.title('Number of Fires/Year over Time')\n",
    "plt.xlabel('Year')\n",
    "plt.ylabel('Number of Fires')"
   ]
  },
  {
   "cell_type": "code",
   "execution_count": null,
   "id": "b6b571be",
   "metadata": {},
   "outputs": [],
   "source": []
  }
 ],
 "metadata": {
  "kernelspec": {
   "display_name": "Python 3",
   "language": "python",
   "name": "python3"
  },
  "language_info": {
   "codemirror_mode": {
    "name": "ipython",
    "version": 3
   },
   "file_extension": ".py",
   "mimetype": "text/x-python",
   "name": "python",
   "nbconvert_exporter": "python",
   "pygments_lexer": "ipython3",
   "version": "3.8.8"
  }
 },
 "nbformat": 4,
 "nbformat_minor": 5
}
